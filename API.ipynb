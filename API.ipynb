{
 "cells": [
  {
   "cell_type": "markdown",
   "metadata": {
    "notebookRunGroups": {
     "groupValue": "2"
    }
   },
   "source": [
    "# 一、用户操作 /user\n",
    "\n",
    "## 1. 用户注册 /user/register/ post"
   ]
  },
  {
   "cell_type": "code",
   "execution_count": null,
   "metadata": {
    "notebookRunGroups": {
     "groupValue": "1"
    }
   },
   "outputs": [
    {
     "ename": "",
     "evalue": "",
     "output_type": "error",
     "traceback": [
      "\u001b[1;31m运行具有“Python 3.12.3”的单元格需要ipykernel包。\n",
      "\u001b[1;31m运行以下命令，将 \"ipykernel\" 安装到 Python 环境中。\n",
      "\u001b[1;31m命令: \"/bin/python3 -m pip install ipykernel -U --user --force-reinstall\""
     ]
    }
   ],
   "source": [
    "from urllib import response\n",
    "import requests\n",
    "\n",
    "global base_url\n",
    "base_url = \"http://localhost:8000/\"\n",
    "userName = \"xiaomingmingbai\"\n",
    "userPassword = \"love1999\"\n",
    "userEmail = \"12695@qq.com\"\n",
    "\n",
    "print(\"start!\")"
   ]
  },
  {
   "cell_type": "code",
   "execution_count": 3,
   "metadata": {
    "notebookRunGroups": {
     "groupValue": "1"
    }
   },
   "outputs": [
    {
     "name": "stdout",
     "output_type": "stream",
     "text": [
      "create Response: {'username': ['A user with that username already exists.']}\n"
     ]
    }
   ],
   "source": [
    "from urllib import response\n",
    "import requests\n",
    "\n",
    "global base_url\n",
    "base_url = \"http://localhost:8000/\"\n",
    "userName = \"xiaomingmingbai\"\n",
    "userPassword = \"love1999\"\n",
    "userEmail = \"12695@qq.com\"\n",
    "\n",
    "def createUser():\n",
    "    # 创建用户\n",
    "    login_url = f\"{base_url}user/register/\"\n",
    "    login_data = {\n",
    "        \"username\": userName,\n",
    "        \"email\": userEmail,\n",
    "        \"password\": userPassword,\n",
    "    }\n",
    "    headers = {\"Content-Type\": \"application/json\"}\n",
    "    response = requests.post(login_url, json=login_data, headers=headers)\n",
    "    print(\"create Response:\", response.json())\n",
    "\n",
    "createUser()"
   ]
  },
  {
   "cell_type": "markdown",
   "metadata": {},
   "source": [
    "## 2. 用户登录 /user/login/ post"
   ]
  },
  {
   "cell_type": "code",
   "execution_count": null,
   "metadata": {},
   "outputs": [
    {
     "ename": "",
     "evalue": "",
     "output_type": "error",
     "traceback": [
      "\u001b[1;31m运行具有“Python 3.12.3”的单元格需要ipykernel包。\n",
      "\u001b[1;31m运行以下命令，将 \"ipykernel\" 安装到 Python 环境中。\n",
      "\u001b[1;31m命令: \"/bin/python3 -m pip install ipykernel -U --user --force-reinstall\""
     ]
    }
   ],
   "source": [
    "def login():\n",
    "    global token\n",
    "    # 测试登录\n",
    "    login_url = f'{base_url}user/login/'\n",
    "    login_data = {\n",
    "        'username': userName,\n",
    "        'password': userPassword,\n",
    "    }\n",
    "    \n",
    "    response = requests.post(login_url, data=login_data)\n",
    "    print('Login Response:', response.json())\n",
    "    token = response.json()['token']\n",
    "    \n",
    "login()"
   ]
  },
  {
   "cell_type": "markdown",
   "metadata": {},
   "source": [
    "## 3. 用户信息 /user/profile/ get"
   ]
  },
  {
   "cell_type": "code",
   "execution_count": 9,
   "metadata": {},
   "outputs": [
    {
     "name": "stdout",
     "output_type": "stream",
     "text": [
      "User Info: {'id': 8, 'username': 'xiaomingmingbai', 'email': '123456@qq.com'}\n"
     ]
    }
   ],
   "source": [
    "def userInfo():\n",
    "    login_url = f'{base_url}user/profile/'\n",
    "    # 设置请求头\n",
    "    headers = {\n",
    "        \"Authorization\": f\"Token {token}\"\n",
    "    }\n",
    "\n",
    "    # 发送POST请求\n",
    "    response = requests.get(login_url, headers=headers)\n",
    "\n",
    "    # 检查响应状态码\n",
    "    if response.status_code == 200:\n",
    "        print(\"User Info:\", response.json())\n",
    "    else:\n",
    "        print(f\"Failed to get user info. Status code: {response.status_code}\")\n",
    "        print(response.json())\n",
    "        \n",
    "userInfo()"
   ]
  },
  {
   "cell_type": "markdown",
   "metadata": {},
   "source": [
    "## 4. 用户登出 /user/logout/ post"
   ]
  },
  {
   "cell_type": "code",
   "execution_count": 3,
   "metadata": {},
   "outputs": [
    {
     "name": "stdout",
     "output_type": "stream",
     "text": [
      "Successfully logged out.\n"
     ]
    }
   ],
   "source": [
    "def logout():\n",
    "    login_url = f'{base_url}user/logout/'\n",
    "    # 设置请求头\n",
    "    headers = {\n",
    "        \"Authorization\": f\"Token {token}\"\n",
    "    }\n",
    "\n",
    "    # 发送POST请求\n",
    "    response = requests.post(login_url, headers=headers)\n",
    "\n",
    "    # 检查响应状态码\n",
    "    if response.status_code == 200:\n",
    "        print(f\"Successfully logged out.\")\n",
    "    else:\n",
    "        print(f\"Failed to log out. Status code: {response.status_code}\")\n",
    "        print(response.json())\n",
    "        \n",
    "logout()"
   ]
  },
  {
   "cell_type": "markdown",
   "metadata": {},
   "source": [
    "## 5. 用户注销 /user/delete/ delete"
   ]
  },
  {
   "cell_type": "code",
   "execution_count": 6,
   "metadata": {},
   "outputs": [
    {
     "name": "stdout",
     "output_type": "stream",
     "text": [
      "Successfully deleted user.\n"
     ]
    }
   ],
   "source": [
    "def deleteUser():\n",
    "    login_url = f'{base_url}user/delete/'\n",
    "    # 设置请求头\n",
    "    headers = {\n",
    "        \"authorization\": f\"Token {token}\"\n",
    "    }\n",
    "    \n",
    "    # 发送POST请求\n",
    "    response = requests.delete(login_url, headers=headers)\n",
    "    \n",
    "    # 检查响应状态码\n",
    "    if response.status_code == 204:\n",
    "        print(f\"Successfully deleted user.\")\n",
    "    else:\n",
    "        print(f\"Failed to delete user. Status code: {response.status_code}\")\n",
    "        \n",
    "deleteUser()"
   ]
  },
  {
   "cell_type": "markdown",
   "metadata": {},
   "source": [
    "# 二、设备操作 /device\n",
    "\n",
    "## 1. 设备注册 /device/register/ post"
   ]
  },
  {
   "cell_type": "code",
   "execution_count": 11,
   "metadata": {},
   "outputs": [
    {
     "name": "stdout",
     "output_type": "stream",
     "text": [
      "Successfully created device.\n"
     ]
    }
   ],
   "source": [
    "def createDevice():\n",
    "    login_url = f'{base_url}device/devices/'\n",
    "    # 设置请求头\n",
    "    headers = {\n",
    "        \"authorization\": f\"Token {token}\"\n",
    "    }\n",
    "    \n",
    "    deviceInfo = {\n",
    "        \"name\": \"raspberry\",\n",
    "        \"user\": \"1\",\n",
    "        \"cpu_name\": \"arm\",\n",
    "        \"cpu_usage\": \"66.6\",\n",
    "        \"gpu_name\" : \"rtx3080\",\n",
    "        \"gpu_usage\": \"77.7\",\n",
    "        \"func_description\" : \"this is a test\",\n",
    "        \"func_usage_cmd\" : \"ls\",\n",
    "        \"func_usage_params\" : \"-l\",\n",
    "    }\n",
    "    \n",
    "    response = requests.post(login_url, headers=headers, json=deviceInfo)\n",
    "    \n",
    "    if response.status_code == 201:\n",
    "        print(response.json())\n",
    "    else:\n",
    "        print(f\"Failed to create device. Status code: {response.status_code}\")\n",
    "    \n",
    "createDevice()"
   ]
  },
  {
   "cell_type": "markdown",
   "metadata": {},
   "source": [
    "## 2. 设备列表 /device/devices/ get"
   ]
  },
  {
   "cell_type": "code",
   "execution_count": 7,
   "metadata": {},
   "outputs": [
    {
     "name": "stdout",
     "output_type": "stream",
     "text": [
      "[{'id': 2, 'name': 'phone', 'user': 1}, {'id': 3, 'name': 'raspberry', 'user': 1}]\n"
     ]
    }
   ],
   "source": [
    "def getDevicesList():\n",
    "    login_url = f'{base_url}device/devices/'\n",
    "    # 设置请求头\n",
    "    headers = {\n",
    "        \"authorization\": f\"Token {token}\"\n",
    "    }\n",
    "    \n",
    "    response = requests.get(login_url, headers=headers)\n",
    "    \n",
    "    print(response.json())\n",
    "    \n",
    "getDevicesList()"
   ]
  },
  {
   "cell_type": "markdown",
   "metadata": {},
   "source": [
    "## 3. 设备信息 /device/devices/<int:device_id>/ get"
   ]
  },
  {
   "cell_type": "code",
   "execution_count": 12,
   "metadata": {},
   "outputs": [
    {
     "name": "stdout",
     "output_type": "stream",
     "text": [
      "{'id': 3, 'name': 'raspberry', 'user': 1}\n"
     ]
    }
   ],
   "source": [
    "def getDevice(num):\n",
    "    login_url = f'{base_url}device/devices/{num}/'\n",
    "    # 设置请求头\n",
    "    headers = {\n",
    "        \"authorization\": f\"Token {token}\"\n",
    "    }\n",
    "    \n",
    "    response = requests.get(login_url, headers=headers)\n",
    "    \n",
    "    print(response.json())\n",
    "    \n",
    "getDevice(3)"
   ]
  },
  {
   "cell_type": "markdown",
   "metadata": {},
   "source": [
    "## 4. 更新设备信息 /device/devices/<int:device_id>/ put"
   ]
  },
  {
   "cell_type": "code",
   "execution_count": 14,
   "metadata": {},
   "outputs": [
    {
     "name": "stdout",
     "output_type": "stream",
     "text": [
      "{'id': 3, 'name': 'Raspberry Pi 5', 'cpu_name': 'amd', 'cpu_usage': 66.6, 'gpu_name': 'rtx4090Ti', 'gpu_usage': 77.7, 'func_description': 'AI', 'func_usage_cmd': 'Generate images', 'func_usage_params': 'url', 'user': 1}\n"
     ]
    }
   ],
   "source": [
    "def updataDevice():\n",
    "    login_url = f'{base_url}device/devices/3/'\n",
    "    # 设置请求头\n",
    "    headers = {\n",
    "        \"authorization\": f\"Token {token}\"\n",
    "    }\n",
    "    \n",
    "    device_data = {\n",
    "        \"name\": \"Raspberry Pi 5\",\n",
    "        \"cpu_name\": \"amd\",\n",
    "        \"cpu_usage\": \"66.6\",\n",
    "        \"gpu_name\" : \"rtx4090Ti\",\n",
    "        \"gpu_usage\": \"77.7\",\n",
    "        \"func_description\" : \"AI\",\n",
    "        \"func_usage_cmd\" : \"Generate images\",\n",
    "        \"func_usage_params\" : \"url\",\n",
    "    }\n",
    "    \n",
    "    response = requests.patch(login_url, headers=headers, json=device_data)\n",
    "    if response.status_code == 200:\n",
    "        print(response.json())\n",
    "    else:\n",
    "        print(f\"Failed to update device. Status code: {response.status_code}\")\n",
    "        \n",
    "updataDevice()"
   ]
  },
  {
   "cell_type": "markdown",
   "metadata": {},
   "source": [
    "## 5. 更新设备部分信息 /device/devices/<int:device_id>/ patch"
   ]
  },
  {
   "cell_type": "code",
   "execution_count": 15,
   "metadata": {},
   "outputs": [
    {
     "name": "stdout",
     "output_type": "stream",
     "text": [
      "{'id': 3, 'name': 'Raspberry', 'cpu_name': 'amd', 'cpu_usage': 66.6, 'gpu_name': 'rtx4090Ti', 'gpu_usage': 77.7, 'func_description': 'AI', 'func_usage_cmd': 'Generate images', 'func_usage_params': 'url', 'user': 1}\n"
     ]
    }
   ],
   "source": [
    "def updataDevicePatch():\n",
    "    login_url = f'{base_url}device/devices/3/'\n",
    "    # 设置请求头\n",
    "    headers = {\n",
    "        \"authorization\": f\"Token {token}\"\n",
    "    }\n",
    "    \n",
    "    device_data = {\n",
    "        \"name\" : \"Raspberry\",\n",
    "    }\n",
    "    \n",
    "    response = requests.patch(login_url, headers=headers, json=device_data)\n",
    "    if response.status_code == 200:\n",
    "        print(response.json())\n",
    "    else:\n",
    "        print(f\"Failed to update device. Status code: {response.status_code}\")\n",
    "        \n",
    "updataDevicePatch()"
   ]
  },
  {
   "cell_type": "markdown",
   "metadata": {},
   "source": [
    "## 6. 删除设备 /device/devices/<int:device_id>/ delete"
   ]
  },
  {
   "cell_type": "code",
   "execution_count": 17,
   "metadata": {},
   "outputs": [
    {
     "name": "stdout",
     "output_type": "stream",
     "text": [
      "Successfully deleted device.\n"
     ]
    }
   ],
   "source": [
    "def deleteDevice():\n",
    "    login_url = f'{base_url}device/devices/2/'\n",
    "    # 设置请求头\n",
    "    headers = {\n",
    "        \"authorization\": f\"Token {token}\"\n",
    "    }\n",
    "    \n",
    "    response = requests.delete(login_url, headers=headers)\n",
    "    if response.status_code == 204:\n",
    "        print(\"Successfully deleted device.\")\n",
    "    else:\n",
    "        print(f\"Failed to delete device. Status code: {response.status_code}\")\n",
    "        \n",
    "deleteDevice()"
   ]
  }
 ],
 "metadata": {
  "kernelspec": {
   "display_name": ".venv",
   "language": "python",
   "name": "python3"
  },
  "language_info": {
   "codemirror_mode": {
    "name": "ipython",
    "version": 3
   },
   "file_extension": ".py",
   "mimetype": "text/x-python",
   "name": "python",
   "nbconvert_exporter": "python",
   "pygments_lexer": "ipython3",
   "version": "3.12.3"
  }
 },
 "nbformat": 4,
 "nbformat_minor": 2
}
